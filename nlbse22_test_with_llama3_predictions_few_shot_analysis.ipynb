{
 "cells": [
  {
   "cell_type": "code",
   "execution_count": 1,
   "metadata": {},
   "outputs": [],
   "source": [
    "import pandas as pd\n",
    "from sklearn.metrics import confusion_matrix, classification_report\n",
    "import seaborn as sns\n",
    "import matplotlib.pyplot as plt\n",
    "\n",
    "pd.set_option('display.max_colwidth', None)"
   ]
  },
  {
   "cell_type": "code",
   "execution_count": 2,
   "metadata": {},
   "outputs": [
    {
     "name": "stdout",
     "output_type": "stream",
     "text": [
      "80518\n"
     ]
    }
   ],
   "source": [
    "results = pd.read_csv('nlbse22_test_with_llama3_predictions_few_shot_v2.csv')\n",
    "print(results.shape[0])"
   ]
  },
  {
   "cell_type": "code",
   "execution_count": 3,
   "metadata": {},
   "outputs": [
    {
     "data": {
      "text/html": [
       "<div>\n",
       "<style scoped>\n",
       "    .dataframe tbody tr th:only-of-type {\n",
       "        vertical-align: middle;\n",
       "    }\n",
       "\n",
       "    .dataframe tbody tr th {\n",
       "        vertical-align: top;\n",
       "    }\n",
       "\n",
       "    .dataframe thead th {\n",
       "        text-align: right;\n",
       "    }\n",
       "</style>\n",
       "<table border=\"1\" class=\"dataframe\">\n",
       "  <thead>\n",
       "    <tr style=\"text-align: right;\">\n",
       "      <th></th>\n",
       "      <th>Unnamed: 0.1</th>\n",
       "      <th>Unnamed: 0</th>\n",
       "      <th>issue_url</th>\n",
       "      <th>issue_label</th>\n",
       "      <th>issue_created_at</th>\n",
       "      <th>issue_author_association</th>\n",
       "      <th>repository_url</th>\n",
       "      <th>issue_title</th>\n",
       "      <th>issue_body</th>\n",
       "      <th>llama3_prediction</th>\n",
       "    </tr>\n",
       "  </thead>\n",
       "  <tbody>\n",
       "    <tr>\n",
       "      <th>0</th>\n",
       "      <td>0</td>\n",
       "      <td>6</td>\n",
       "      <td>https://api.github.com/repos/tlnagy/TIFF.jl/issues/7</td>\n",
       "      <td>enhancement</td>\n",
       "      <td>2020-04-07T09:08:50Z</td>\n",
       "      <td>NONE</td>\n",
       "      <td>https://api.github.com/repos/tlnagy/TIFF.jl</td>\n",
       "      <td>ERROR: KeyError: key (TIFF.SAMPLEFORMAT_INT, 0x0008) not found</td>\n",
       "      <td>One more error might need to be caught.\\r\\n`4D-series.ome.tif` is sample file from [OME-TIFF website]( https://docs.openmicroscopy.org/ome-model/6.0.0/ome-tiff/data.html).\\r\\n\\r\\n```julia\\r\\njulia&gt; TIFF.load(\"4D-series.ome.tif\")\\r\\nERROR: KeyError: key (TIFF.SAMPLEFORMAT_INT, 0x0008) not found\\r\\nStacktrace:\\r\\n [1] getindex(::Dict{Tuple{TIFF.SampleFormats,Int64},DataType}, ::Tuple{TIFF.SampleFormats,UInt16}) at ./dict.jl:477\\r\\n [2] output(::TIFF.IFD{UInt32}) at /home/hf/.julia/dev/TIFF/src/ifds.jl:113\\r\\n [3] load(::String) at /home/hf/.julia/dev/TIFF/src/load.jl:14\\r\\n [4] top-level scope at REPL[2]:1\\r\\n```\\r\\n</td>\n",
       "      <td>(i) bug report</td>\n",
       "    </tr>\n",
       "    <tr>\n",
       "      <th>1</th>\n",
       "      <td>1</td>\n",
       "      <td>19</td>\n",
       "      <td>https://api.github.com/repos/tisboyo/Twitch_Bot/issues/57</td>\n",
       "      <td>enhancement</td>\n",
       "      <td>2020-11-27T07:17:21Z</td>\n",
       "      <td>OWNER</td>\n",
       "      <td>https://api.github.com/repos/tisboyo/Twitch_Bot</td>\n",
       "      <td>Add database backup to dropbox</td>\n",
       "      <td>NaN</td>\n",
       "      <td>(ii) enhancement report</td>\n",
       "    </tr>\n",
       "    <tr>\n",
       "      <th>2</th>\n",
       "      <td>2</td>\n",
       "      <td>25</td>\n",
       "      <td>https://api.github.com/repos/DrWhoCares/imgdanke/issues/70</td>\n",
       "      <td>enhancement</td>\n",
       "      <td>2021-01-02T19:35:34Z</td>\n",
       "      <td>OWNER</td>\n",
       "      <td>https://api.github.com/repos/DrWhoCares/imgdanke</td>\n",
       "      <td>Add a button/method to open the Source or Output folders</td>\n",
       "      <td>Could also add a method to open up path to each file in the File list, by right-clicking.\\r\\nAlso an option to open up the path to the imgdanke.exe.</td>\n",
       "      <td>(ii) Enhancement report</td>\n",
       "    </tr>\n",
       "    <tr>\n",
       "      <th>3</th>\n",
       "      <td>3</td>\n",
       "      <td>30</td>\n",
       "      <td>https://api.github.com/repos/DrWhoCares/imgdanke/issues/72</td>\n",
       "      <td>bug</td>\n",
       "      <td>2021-01-02T20:55:34Z</td>\n",
       "      <td>OWNER</td>\n",
       "      <td>https://api.github.com/repos/DrWhoCares/imgdanke</td>\n",
       "      <td>Processes are being started twice</td>\n",
       "      <td>At some point I refactored a few things and ended up leaving in an additional call to `process.Start()` that should've just been replaced by the `using Process process = Process.Start()` call.</td>\n",
       "      <td>(i) bug report</td>\n",
       "    </tr>\n",
       "    <tr>\n",
       "      <th>4</th>\n",
       "      <td>4</td>\n",
       "      <td>54</td>\n",
       "      <td>https://api.github.com/repos/Bean-1/AOT/issues/3</td>\n",
       "      <td>bug</td>\n",
       "      <td>2020-12-29T15:34:35Z</td>\n",
       "      <td>OWNER</td>\n",
       "      <td>https://api.github.com/repos/Bean-1/AOT</td>\n",
       "      <td>Cannot add hp to wall</td>\n",
       "      <td>NaN</td>\n",
       "      <td>(i) bug report</td>\n",
       "    </tr>\n",
       "  </tbody>\n",
       "</table>\n",
       "</div>"
      ],
      "text/plain": [
       "   Unnamed: 0.1  Unnamed: 0  \\\n",
       "0             0           6   \n",
       "1             1          19   \n",
       "2             2          25   \n",
       "3             3          30   \n",
       "4             4          54   \n",
       "\n",
       "                                                    issue_url  issue_label  \\\n",
       "0        https://api.github.com/repos/tlnagy/TIFF.jl/issues/7  enhancement   \n",
       "1   https://api.github.com/repos/tisboyo/Twitch_Bot/issues/57  enhancement   \n",
       "2  https://api.github.com/repos/DrWhoCares/imgdanke/issues/70  enhancement   \n",
       "3  https://api.github.com/repos/DrWhoCares/imgdanke/issues/72          bug   \n",
       "4            https://api.github.com/repos/Bean-1/AOT/issues/3          bug   \n",
       "\n",
       "       issue_created_at issue_author_association  \\\n",
       "0  2020-04-07T09:08:50Z                     NONE   \n",
       "1  2020-11-27T07:17:21Z                    OWNER   \n",
       "2  2021-01-02T19:35:34Z                    OWNER   \n",
       "3  2021-01-02T20:55:34Z                    OWNER   \n",
       "4  2020-12-29T15:34:35Z                    OWNER   \n",
       "\n",
       "                                     repository_url  \\\n",
       "0       https://api.github.com/repos/tlnagy/TIFF.jl   \n",
       "1   https://api.github.com/repos/tisboyo/Twitch_Bot   \n",
       "2  https://api.github.com/repos/DrWhoCares/imgdanke   \n",
       "3  https://api.github.com/repos/DrWhoCares/imgdanke   \n",
       "4           https://api.github.com/repos/Bean-1/AOT   \n",
       "\n",
       "                                                      issue_title  \\\n",
       "0  ERROR: KeyError: key (TIFF.SAMPLEFORMAT_INT, 0x0008) not found   \n",
       "1                                  Add database backup to dropbox   \n",
       "2        Add a button/method to open the Source or Output folders   \n",
       "3                               Processes are being started twice   \n",
       "4                                           Cannot add hp to wall   \n",
       "\n",
       "                                                                                                                                                                                                                                                                                                                                                                                                                                                                                                                                                                                                                                       issue_body  \\\n",
       "0  One more error might need to be caught.\\r\\n`4D-series.ome.tif` is sample file from [OME-TIFF website]( https://docs.openmicroscopy.org/ome-model/6.0.0/ome-tiff/data.html).\\r\\n\\r\\n```julia\\r\\njulia> TIFF.load(\"4D-series.ome.tif\")\\r\\nERROR: KeyError: key (TIFF.SAMPLEFORMAT_INT, 0x0008) not found\\r\\nStacktrace:\\r\\n [1] getindex(::Dict{Tuple{TIFF.SampleFormats,Int64},DataType}, ::Tuple{TIFF.SampleFormats,UInt16}) at ./dict.jl:477\\r\\n [2] output(::TIFF.IFD{UInt32}) at /home/hf/.julia/dev/TIFF/src/ifds.jl:113\\r\\n [3] load(::String) at /home/hf/.julia/dev/TIFF/src/load.jl:14\\r\\n [4] top-level scope at REPL[2]:1\\r\\n```\\r\\n   \n",
       "1                                                                                                                                                                                                                                                                                                                                                                                                                                                                                                                                                                                                                                             NaN   \n",
       "2                                                                                                                                                                                                                                                                                                                                                                                                                                                                                            Could also add a method to open up path to each file in the File list, by right-clicking.\\r\\nAlso an option to open up the path to the imgdanke.exe.   \n",
       "3                                                                                                                                                                                                                                                                                                                                                                                                                                                At some point I refactored a few things and ended up leaving in an additional call to `process.Start()` that should've just been replaced by the `using Process process = Process.Start()` call.   \n",
       "4                                                                                                                                                                                                                                                                                                                                                                                                                                                                                                                                                                                                                                             NaN   \n",
       "\n",
       "         llama3_prediction  \n",
       "0           (i) bug report  \n",
       "1  (ii) enhancement report  \n",
       "2  (ii) Enhancement report  \n",
       "3           (i) bug report  \n",
       "4           (i) bug report  "
      ]
     },
     "execution_count": 3,
     "metadata": {},
     "output_type": "execute_result"
    }
   ],
   "source": [
    "results.head()"
   ]
  },
  {
   "cell_type": "code",
   "execution_count": 4,
   "metadata": {},
   "outputs": [
    {
     "data": {
      "text/plain": [
       "llama3_prediction\n",
       "(ii) enhancement report                                                                                                                                                                                                                                                                                                                                                                                                                                                                                                                                                                                                                                                       27256\n",
       "(i) bug report                                                                                                                                                                                                                                                                                                                                                                                                                                                                                                                                                                                                                                                                27110\n",
       "(iii)                                                                                                                                                                                                                                                                                                                                                                                                                                                                                                                                                                                                                                                                          7492\n",
       "(i) Bug report                                                                                                                                                                                                                                                                                                                                                                                                                                                                                                                                                                                                                                                                 4416\n",
       "(i)                                                                                                                                                                                                                                                                                                                                                                                                                                                                                                                                                                                                                                                                            3722\n",
       "(ii) Enhancement report                                                                                                                                                                                                                                                                                                                                                                                                                                                                                                                                                                                                                                                        3178\n",
       "(ii) Enhancement Report                                                                                                                                                                                                                                                                                                                                                                                                                                                                                                                                                                                                                                                        2890\n",
       "(i) Bug Report                                                                                                                                                                                                                                                                                                                                                                                                                                                                                                                                                                                                                                                                 2074\n",
       "(ii)                                                                                                                                                                                                                                                                                                                                                                                                                                                                                                                                                                                                                                                                           1248\n",
       "(iii) something else                                                                                                                                                                                                                                                                                                                                                                                                                                                                                                                                                                                                                                                            925\n",
       "(iii) Something else                                                                                                                                                                                                                                                                                                                                                                                                                                                                                                                                                                                                                                                            114\n",
       "(i) Enhancement report                                                                                                                                                                                                                                                                                                                                                                                                                                                                                                                                                                                                                                                           27\n",
       "(i) Enhancement Report                                                                                                                                                                                                                                                                                                                                                                                                                                                                                                                                                                                                                                                           23\n",
       "(i) enhancement report                                                                                                                                                                                                                                                                                                                                                                                                                                                                                                                                                                                                                                                            7\n",
       "(iii) Enhancement report                                                                                                                                                                                                                                                                                                                                                                                                                                                                                                                                                                                                                                                          6\n",
       "(iii) Enhancement Report                                                                                                                                                                                                                                                                                                                                                                                                                                                                                                                                                                                                                                                          4\n",
       "(iii) Something else.                                                                                                                                                                                                                                                                                                                                                                                                                                                                                                                                                                                                                                                             3\n",
       "(iii) Something Else                                                                                                                                                                                                                                                                                                                                                                                                                                                                                                                                                                                                                                                              2\n",
       "The category of this issue is:\\n\\n(ii) Enhancement Report                                                                                                                                                                                                                                                                                                                                                                                                                                                                                                                                                                                                                         2\n",
       "The category of this issue is:\\n\\n(ii) Enhancement report                                                                                                                                                                                                                                                                                                                                                                                                                                                                                                                                                                                                                         1\n",
       "(i), (ii)                                                                                                                                                                                                                                                                                                                                                                                                                                                                                                                                                                                                                                                                         1\n",
       "(ii) enhancement report-lint cache clean                                                                                                                                                                                                                                                                                                                                                                                                                                                                                                                                                                                                                                          1\n",
       "(i) Bug report\\n(ii) Enhancement report                                                                                                                                                                                                                                                                                                                                                                                                                                                                                                                                                                                                                                           1\n",
       "(iii) Log report                                                                                                                                                                                                                                                                                                                                                                                                                                                                                                                                                                                                                                                                  1\n",
       "(ii), (iii)                                                                                                                                                                                                                                                                                                                                                                                                                                                                                                                                                                                                                                                                       1\n",
       "The category of the following issue is:\\n\\n(i) Enhancement Report                                                                                                                                                                                                                                                                                                                                                                                                                                                                                                                                                                                                                 1\n",
       "(iii) enhancement report                                                                                                                                                                                                                                                                                                                                                                                                                                                                                                                                                                                                                                                          1\n",
       "I'd categorize this issue as an **enhancement report**.\\n\\nThe main reason for this classification is that the issue describes a specific feature request rather than a defect or bug in the system. The user is requesting a change to the font used in certain languages, and providing screenshots to illustrate the problem. This is more of an enhancement or a feature request rather than a bug report.                                                                                                                                                                                                                                                                    1\n",
       "**(i)**                                                                                                                                                                                                                                                                                                                                                                                                                                                                                                                                                                                                                                                                           1\n",
       "(i) Enhancement reports                                                                                                                                                                                                                                                                                                                                                                                                                                                                                                                                                                                                                                                           1\n",
       "(ii), (iii), and (iv)                                                                                                                                                                                                                                                                                                                                                                                                                                                                                                                                                                                                                                                             1\n",
       "The category of this issue is (iii) something else.                                                                                                                                                                                                                                                                                                                                                                                                                                                                                                                                                                                                                               1\n",
       "The category of this issue is (iii) something else.\\n\\nReasoning: The issue description does not indicate a specific problem with the functionality of SkyWalking (bug), nor does it suggest a new feature or improvement (enhancement report). Instead, it appears to be an inquiry or discussion about optimizing agent performance and setting a sampling policy, which falls under the \"Question\" category.                                                                                                                                                                                                                                                                   1\n",
       "The category of this issue is (ii) enhancement report. The issue description indicates that the submitter wants to know if there is a plan to support OpenTracing v0.33.0, which suggests a request for future development or feature addition rather than reporting an existing bug or problem.                                                                                                                                                                                                                                                                                                                                                                                  1\n",
       "(i) Bug report\\n\\nThe issue is that Firefox sends a GET request for a \"favicon.ico\" file when loading a page, which can result in a 404 Not Found response code if the file does not exist on the server. This behavior seems unnecessary and may be considered a bug or a feature that should be configurable.\\n\\nThe description of the issue includes several updates with various sources and discussions related to the topic, including Firefox's handling of favicons, browser differences, and potential workarounds. The overall category is a bug report because it describes a problem with Firefox's behavior that may be considered undesirable or incorrect.        1\n",
       "The category of this issue is (ii) enhancement report. The user is trying to add two OAL metrics that are given by an official document to the core.OAL, but it's getting an error, which suggests that they are proposing a change or improvement rather than reporting a bug.                                                                                                                                                                                                                                                                                                                                                                                                   1\n",
       "(ii) enhancement report #888                                                                                                                                                                                                                                                                                                                                                                                                                                                                                                                                                                                                                                                      1\n",
       "(ii) enhancement report-added-by-default                                                                                                                                                                                                                                                                                                                                                                                                                                                                                                                                                                                                                                          1\n",
       "Name: count, dtype: int64"
      ]
     },
     "execution_count": 4,
     "metadata": {},
     "output_type": "execute_result"
    }
   ],
   "source": [
    "results['llama3_prediction'].value_counts()"
   ]
  },
  {
   "cell_type": "code",
   "execution_count": 5,
   "metadata": {},
   "outputs": [
    {
     "data": {
      "text/plain": [
       "array(['(i) bug report', '(ii) enhancement report',\n",
       "       '(ii) Enhancement report', '(iii)', '(ii) Enhancement Report',\n",
       "       '(i) Bug Report', '(i)', '(i) Bug report', '(iii) something else',\n",
       "       '(ii)', '(iii) Something else', '(i) Enhancement Report',\n",
       "       '(i) Enhancement report',\n",
       "       \"The category of this issue is (ii) enhancement report. The user is trying to add two OAL metrics that are given by an official document to the core.OAL, but it's getting an error, which suggests that they are proposing a change or improvement rather than reporting a bug.\",\n",
       "       '(i) Enhancement reports',\n",
       "       'The category of this issue is:\\n\\n(ii) Enhancement report',\n",
       "       '(i) enhancement report', '(iii) Enhancement report',\n",
       "       '(ii) enhancement report #888', '(iii) Enhancement Report',\n",
       "       'The category of this issue is:\\n\\n(ii) Enhancement Report',\n",
       "       '(i) Bug report\\n\\nThe issue is that Firefox sends a GET request for a \"favicon.ico\" file when loading a page, which can result in a 404 Not Found response code if the file does not exist on the server. This behavior seems unnecessary and may be considered a bug or a feature that should be configurable.\\n\\nThe description of the issue includes several updates with various sources and discussions related to the topic, including Firefox\\'s handling of favicons, browser differences, and potential workarounds. The overall category is a bug report because it describes a problem with Firefox\\'s behavior that may be considered undesirable or incorrect.',\n",
       "       'The category of this issue is (ii) enhancement report. The issue description indicates that the submitter wants to know if there is a plan to support OpenTracing v0.33.0, which suggests a request for future development or feature addition rather than reporting an existing bug or problem.',\n",
       "       '(iii) Something else.',\n",
       "       'The category of this issue is (iii) something else.\\n\\nReasoning: The issue description does not indicate a specific problem with the functionality of SkyWalking (bug), nor does it suggest a new feature or improvement (enhancement report). Instead, it appears to be an inquiry or discussion about optimizing agent performance and setting a sampling policy, which falls under the \"Question\" category.',\n",
       "       'The category of this issue is (iii) something else.',\n",
       "       '(ii), (iii), and (iv)', '**(i)**', '(iii) Something Else',\n",
       "       \"I'd categorize this issue as an **enhancement report**.\\n\\nThe main reason for this classification is that the issue describes a specific feature request rather than a defect or bug in the system. The user is requesting a change to the font used in certain languages, and providing screenshots to illustrate the problem. This is more of an enhancement or a feature request rather than a bug report.\",\n",
       "       '(iii) enhancement report',\n",
       "       'The category of the following issue is:\\n\\n(i) Enhancement Report',\n",
       "       '(ii), (iii)', '(iii) Log report',\n",
       "       '(i) Bug report\\n(ii) Enhancement report',\n",
       "       '(ii) enhancement report-lint cache clean', '(i), (ii)',\n",
       "       '(ii) enhancement report-added-by-default'], dtype=object)"
      ]
     },
     "execution_count": 5,
     "metadata": {},
     "output_type": "execute_result"
    }
   ],
   "source": [
    "results['llama3_prediction'].unique()"
   ]
  },
  {
   "cell_type": "code",
   "execution_count": 6,
   "metadata": {},
   "outputs": [
    {
     "data": {
      "text/plain": [
       "38"
      ]
     },
     "execution_count": 6,
     "metadata": {},
     "output_type": "execute_result"
    }
   ],
   "source": [
    "len(results['llama3_prediction'].unique())"
   ]
  },
  {
   "cell_type": "code",
   "execution_count": 7,
   "metadata": {},
   "outputs": [],
   "source": [
    "results['llama3_prediction_organized'] = results['llama3_prediction']"
   ]
  },
  {
   "cell_type": "markdown",
   "metadata": {},
   "source": [
    "Arranging bug answers"
   ]
  },
  {
   "cell_type": "code",
   "execution_count": 8,
   "metadata": {},
   "outputs": [],
   "source": [
    "bug_labels = {'(i) bug report',\n",
    "              '(i) Bug report',\n",
    "              '(i)',\n",
    "              '(i) Bug Report',\n",
    "              '**(i)**'}\n",
    "\n",
    "results['llama3_prediction_organized'] = results['llama3_prediction_organized'].replace(bug_labels, 'bug')"
   ]
  },
  {
   "cell_type": "markdown",
   "metadata": {},
   "source": [
    "Arranging enhancement answers"
   ]
  },
  {
   "cell_type": "code",
   "execution_count": 9,
   "metadata": {},
   "outputs": [],
   "source": [
    "enhancement_labels = {'(ii) enhancement report',\n",
    "                      '(ii) Enhancement report',\n",
    "                      '(ii) Enhancement Report',\n",
    "                      '(ii)',\n",
    "                      '(i) Enhancement report',\n",
    "                      '(i) Enhancement Report',\n",
    "                      '(i) enhancement report',\n",
    "                      '(iii) Enhancement report',\n",
    "                      '(iii) Enhancement Report',\n",
    "                      '(ii) enhancement report-lint cache clean',\n",
    "                      '(iii) enhancement report',\n",
    "                      '(i) Enhancement reports',\n",
    "                      'The category of this issue is (ii) enhancement report. The issue description indicates that the submitter wants to know if there is a plan to support OpenTracing v0.33.0, which suggests a request for future development or feature addition rather than reporting an existing bug or problem.',\n",
    "                      '(ii) enhancement report #888',\n",
    "                      '(ii) enhancement report-added-by-default'}\n",
    "\n",
    "results['llama3_prediction_organized'] = results['llama3_prediction_organized'].replace(enhancement_labels, 'enhancement')"
   ]
  },
  {
   "cell_type": "markdown",
   "metadata": {},
   "source": [
    "Arranging something else answers"
   ]
  },
  {
   "cell_type": "code",
   "execution_count": 10,
   "metadata": {},
   "outputs": [],
   "source": [
    "out_of_scope_labels = {'(iii)',\n",
    "                       '(iii) something else',\n",
    "                       '(iii) Something else',\n",
    "                       '(iii) Something else.',\n",
    "                       '(iii) Something Else',\n",
    "                       '(iii) Log report',\n",
    "                       'The category of this issue is (iii) something else.'}\n",
    "\n",
    "results['llama3_prediction_organized'] = results['llama3_prediction_organized'].replace(out_of_scope_labels, 'out-of-scope')"
   ]
  },
  {
   "cell_type": "code",
   "execution_count": 11,
   "metadata": {},
   "outputs": [
    {
     "data": {
      "text/plain": [
       "llama3_prediction_organized\n",
       "bug                                                                                                                                                                                                                                                                                                                                                                                                                                                                                                                                                                                                                                                                           37323\n",
       "enhancement                                                                                                                                                                                                                                                                                                                                                                                                                                                                                                                                                                                                                                                                   34645\n",
       "out-of-scope                                                                                                                                                                                                                                                                                                                                                                                                                                                                                                                                                                                                                                                                   8538\n",
       "The category of this issue is:\\n\\n(ii) Enhancement Report                                                                                                                                                                                                                                                                                                                                                                                                                                                                                                                                                                                                                         2\n",
       "The category of this issue is (ii) enhancement report. The user is trying to add two OAL metrics that are given by an official document to the core.OAL, but it's getting an error, which suggests that they are proposing a change or improvement rather than reporting a bug.                                                                                                                                                                                                                                                                                                                                                                                                   1\n",
       "The category of this issue is:\\n\\n(ii) Enhancement report                                                                                                                                                                                                                                                                                                                                                                                                                                                                                                                                                                                                                         1\n",
       "(i) Bug report\\n\\nThe issue is that Firefox sends a GET request for a \"favicon.ico\" file when loading a page, which can result in a 404 Not Found response code if the file does not exist on the server. This behavior seems unnecessary and may be considered a bug or a feature that should be configurable.\\n\\nThe description of the issue includes several updates with various sources and discussions related to the topic, including Firefox's handling of favicons, browser differences, and potential workarounds. The overall category is a bug report because it describes a problem with Firefox's behavior that may be considered undesirable or incorrect.        1\n",
       "The category of this issue is (iii) something else.\\n\\nReasoning: The issue description does not indicate a specific problem with the functionality of SkyWalking (bug), nor does it suggest a new feature or improvement (enhancement report). Instead, it appears to be an inquiry or discussion about optimizing agent performance and setting a sampling policy, which falls under the \"Question\" category.                                                                                                                                                                                                                                                                   1\n",
       "(ii), (iii), and (iv)                                                                                                                                                                                                                                                                                                                                                                                                                                                                                                                                                                                                                                                             1\n",
       "I'd categorize this issue as an **enhancement report**.\\n\\nThe main reason for this classification is that the issue describes a specific feature request rather than a defect or bug in the system. The user is requesting a change to the font used in certain languages, and providing screenshots to illustrate the problem. This is more of an enhancement or a feature request rather than a bug report.                                                                                                                                                                                                                                                                    1\n",
       "The category of the following issue is:\\n\\n(i) Enhancement Report                                                                                                                                                                                                                                                                                                                                                                                                                                                                                                                                                                                                                 1\n",
       "(ii), (iii)                                                                                                                                                                                                                                                                                                                                                                                                                                                                                                                                                                                                                                                                       1\n",
       "(i) Bug report\\n(ii) Enhancement report                                                                                                                                                                                                                                                                                                                                                                                                                                                                                                                                                                                                                                           1\n",
       "(i), (ii)                                                                                                                                                                                                                                                                                                                                                                                                                                                                                                                                                                                                                                                                         1\n",
       "Name: count, dtype: int64"
      ]
     },
     "execution_count": 11,
     "metadata": {},
     "output_type": "execute_result"
    }
   ],
   "source": [
    "results['llama3_prediction_organized'].value_counts()"
   ]
  },
  {
   "cell_type": "markdown",
   "metadata": {},
   "source": [
    "Arranging long sentences from the csv file"
   ]
  },
  {
   "cell_type": "code",
   "execution_count": 12,
   "metadata": {},
   "outputs": [],
   "source": [
    "results['llama3_prediction_organized'].to_excel('nlbse22_test_with_llama3_predictions_few_shot_v2_review.xlsx')"
   ]
  },
  {
   "cell_type": "code",
   "execution_count": 13,
   "metadata": {},
   "outputs": [
    {
     "data": {
      "text/plain": [
       "\"The category of this issue is (ii) enhancement report. The user is trying to add two OAL metrics that are given by an official document to the core.OAL, but it's getting an error, which suggests that they are proposing a change or improvement rather than reporting a bug.\""
      ]
     },
     "execution_count": 13,
     "metadata": {},
     "output_type": "execute_result"
    }
   ],
   "source": [
    "results.loc[4344,'llama3_prediction_organized']"
   ]
  },
  {
   "cell_type": "code",
   "execution_count": 14,
   "metadata": {},
   "outputs": [],
   "source": [
    "results.loc[4344,'llama3_prediction_organized'] = 'enhancement'"
   ]
  },
  {
   "cell_type": "code",
   "execution_count": 15,
   "metadata": {},
   "outputs": [
    {
     "data": {
      "text/plain": [
       "'The category of this issue is:\\n\\n(ii) Enhancement report'"
      ]
     },
     "execution_count": 15,
     "metadata": {},
     "output_type": "execute_result"
    }
   ],
   "source": [
    "results.loc[7841,'llama3_prediction_organized']"
   ]
  },
  {
   "cell_type": "code",
   "execution_count": 16,
   "metadata": {},
   "outputs": [],
   "source": [
    "results.loc[7841,'llama3_prediction_organized'] = 'enhancement'"
   ]
  },
  {
   "cell_type": "code",
   "execution_count": 17,
   "metadata": {},
   "outputs": [
    {
     "data": {
      "text/plain": [
       "'The category of this issue is:\\n\\n(ii) Enhancement Report'"
      ]
     },
     "execution_count": 17,
     "metadata": {},
     "output_type": "execute_result"
    }
   ],
   "source": [
    "results.loc[21768,'llama3_prediction_organized']"
   ]
  },
  {
   "cell_type": "code",
   "execution_count": 18,
   "metadata": {},
   "outputs": [],
   "source": [
    "results.loc[21768,'llama3_prediction_organized'] = 'enhancement'"
   ]
  },
  {
   "cell_type": "code",
   "execution_count": 19,
   "metadata": {},
   "outputs": [
    {
     "data": {
      "text/plain": [
       "'(i) Bug report\\n\\nThe issue is that Firefox sends a GET request for a \"favicon.ico\" file when loading a page, which can result in a 404 Not Found response code if the file does not exist on the server. This behavior seems unnecessary and may be considered a bug or a feature that should be configurable.\\n\\nThe description of the issue includes several updates with various sources and discussions related to the topic, including Firefox\\'s handling of favicons, browser differences, and potential workarounds. The overall category is a bug report because it describes a problem with Firefox\\'s behavior that may be considered undesirable or incorrect.'"
      ]
     },
     "execution_count": 19,
     "metadata": {},
     "output_type": "execute_result"
    }
   ],
   "source": [
    "results.loc[38501,'llama3_prediction_organized']"
   ]
  },
  {
   "cell_type": "code",
   "execution_count": 20,
   "metadata": {},
   "outputs": [],
   "source": [
    "results.loc[38501,'llama3_prediction_organized'] = 'bug'"
   ]
  },
  {
   "cell_type": "code",
   "execution_count": 21,
   "metadata": {},
   "outputs": [
    {
     "data": {
      "text/plain": [
       "'The category of this issue is (iii) something else.\\n\\nReasoning: The issue description does not indicate a specific problem with the functionality of SkyWalking (bug), nor does it suggest a new feature or improvement (enhancement report). Instead, it appears to be an inquiry or discussion about optimizing agent performance and setting a sampling policy, which falls under the \"Question\" category.'"
      ]
     },
     "execution_count": 21,
     "metadata": {},
     "output_type": "execute_result"
    }
   ],
   "source": [
    "results.loc[44119,'llama3_prediction_organized']"
   ]
  },
  {
   "cell_type": "code",
   "execution_count": 22,
   "metadata": {},
   "outputs": [],
   "source": [
    "results.loc[44119,'llama3_prediction_organized'] = 'out-of-scope'"
   ]
  },
  {
   "cell_type": "code",
   "execution_count": 23,
   "metadata": {},
   "outputs": [
    {
     "data": {
      "text/plain": [
       "'(ii), (iii), and (iv)'"
      ]
     },
     "execution_count": 23,
     "metadata": {},
     "output_type": "execute_result"
    }
   ],
   "source": [
    "results.loc[44458,'llama3_prediction_organized']"
   ]
  },
  {
   "cell_type": "code",
   "execution_count": 24,
   "metadata": {},
   "outputs": [
    {
     "data": {
      "text/html": [
       "<div>\n",
       "<style scoped>\n",
       "    .dataframe tbody tr th:only-of-type {\n",
       "        vertical-align: middle;\n",
       "    }\n",
       "\n",
       "    .dataframe tbody tr th {\n",
       "        vertical-align: top;\n",
       "    }\n",
       "\n",
       "    .dataframe thead th {\n",
       "        text-align: right;\n",
       "    }\n",
       "</style>\n",
       "<table border=\"1\" class=\"dataframe\">\n",
       "  <thead>\n",
       "    <tr style=\"text-align: right;\">\n",
       "      <th></th>\n",
       "      <th>Unnamed: 0.1</th>\n",
       "      <th>Unnamed: 0</th>\n",
       "      <th>issue_url</th>\n",
       "      <th>issue_label</th>\n",
       "      <th>issue_created_at</th>\n",
       "      <th>issue_author_association</th>\n",
       "      <th>repository_url</th>\n",
       "      <th>issue_title</th>\n",
       "      <th>issue_body</th>\n",
       "      <th>llama3_prediction</th>\n",
       "      <th>llama3_prediction_organized</th>\n",
       "    </tr>\n",
       "  </thead>\n",
       "  <tbody>\n",
       "    <tr>\n",
       "      <th>44458</th>\n",
       "      <td>44458</td>\n",
       "      <td>443342</td>\n",
       "      <td>https://api.github.com/repos/PalisadoesFoundation/talawa/issues/355</td>\n",
       "      <td>enhancement</td>\n",
       "      <td>2021-03-16T16:31:58Z</td>\n",
       "      <td>CONTRIBUTOR</td>\n",
       "      <td>https://api.github.com/repos/PalisadoesFoundation/talawa</td>\n",
       "      <td>Organization Settings Page</td>\n",
       "      <td>I encountered an issue with the new organization settings page implemented.\\r\\n\\r\\n 1.   It doesn't allow me as a member to leave any organization. **[Bug]**\\r\\n https://thepalisadoes-dyb6419.slack.com/files/U01QZEFJSCE/F01QYUR2A3H/t_video6235250589085729285__1_.mp4\\r\\n 2.   As a member this page should be adaptive accordingly like it should either show me the toast in remove member page on marking any member for remove or it should not show me the options to remove member in the organization page. **[Enhancement]**\\r\\n https://thepalisadoes-dyb6419.slack.com/files/U01QZEFJSCE/F01RDN4F57U/photo6235250589541969025.jpg\\r\\n 3.   Accept membership request should only be visible to private organizations that too only if the user is admin. Adding to this one the page loads empty if there are no member join requests, displaying a proper message would be a better choice. **[Enhancement]**\\r\\n 4.   As a organization admin, if a remove a user and if the user happens to be a admin then there's a feature which prevents this to happen but I feel this could be enhanced by either displaying a proper toast or we can show on the member name tile itself if the user is admin similar to whatsapp. This could also help other members as well to know who are there organization's admins. **[Feature/Enhancement]**\\r\\n https://user-images.githubusercontent.com/44184786/111338728-2c878b00-869d-11eb-822d-88f3bbd9d1ae.jpg\\r\\n 5.   Update organization option should only be visible if the user is admin **[Feature]**\\r\\n https://thepalisadoes-dyb6419.slack.com/files/U01QZEFJSCE/F01RDN4F57U/photo6235250589541969025.jpg\\r\\n\\r\\n**Console log for the same:**\\r\\n![image](https://user-images.githubusercontent.com/44184786/111340923-0ebb2580-869f-11eb-81f8-c9947ad04b5e.png)\\r\\n**Video of the same:**\\r\\n\\r\\n[![Watch the video](https://user-images.githubusercontent.com/44184786/111345100-f6e5a080-86a2-11eb-9a59-30fba6ddb8cd.jpg)](https://user-images.githubusercontent.com/44184786/111341136-3e6a2d80-869f-11eb-9b71-13839b1a2cc6.mp4)\\r\\n</td>\n",
       "      <td>(ii), (iii), and (iv)</td>\n",
       "      <td>(ii), (iii), and (iv)</td>\n",
       "    </tr>\n",
       "  </tbody>\n",
       "</table>\n",
       "</div>"
      ],
      "text/plain": [
       "       Unnamed: 0.1  Unnamed: 0  \\\n",
       "44458         44458      443342   \n",
       "\n",
       "                                                                 issue_url  \\\n",
       "44458  https://api.github.com/repos/PalisadoesFoundation/talawa/issues/355   \n",
       "\n",
       "       issue_label      issue_created_at issue_author_association  \\\n",
       "44458  enhancement  2021-03-16T16:31:58Z              CONTRIBUTOR   \n",
       "\n",
       "                                                 repository_url  \\\n",
       "44458  https://api.github.com/repos/PalisadoesFoundation/talawa   \n",
       "\n",
       "                      issue_title  \\\n",
       "44458  Organization Settings Page   \n",
       "\n",
       "                                                                                                                                                                                                                                                                                                                                                                                                                                                                                                                                                                                                                                                                                                                                                                                                                                                                                                                                                                                                                                                                                                                                                                                                                                                                                                                                                                                                                                                                                                                                                                                                                                                                                                                                                                                                                                                                                                                                                                                                                                                                                                         issue_body  \\\n",
       "44458  I encountered an issue with the new organization settings page implemented.\\r\\n\\r\\n 1.   It doesn't allow me as a member to leave any organization. **[Bug]**\\r\\n https://thepalisadoes-dyb6419.slack.com/files/U01QZEFJSCE/F01QYUR2A3H/t_video6235250589085729285__1_.mp4\\r\\n 2.   As a member this page should be adaptive accordingly like it should either show me the toast in remove member page on marking any member for remove or it should not show me the options to remove member in the organization page. **[Enhancement]**\\r\\n https://thepalisadoes-dyb6419.slack.com/files/U01QZEFJSCE/F01RDN4F57U/photo6235250589541969025.jpg\\r\\n 3.   Accept membership request should only be visible to private organizations that too only if the user is admin. Adding to this one the page loads empty if there are no member join requests, displaying a proper message would be a better choice. **[Enhancement]**\\r\\n 4.   As a organization admin, if a remove a user and if the user happens to be a admin then there's a feature which prevents this to happen but I feel this could be enhanced by either displaying a proper toast or we can show on the member name tile itself if the user is admin similar to whatsapp. This could also help other members as well to know who are there organization's admins. **[Feature/Enhancement]**\\r\\n https://user-images.githubusercontent.com/44184786/111338728-2c878b00-869d-11eb-822d-88f3bbd9d1ae.jpg\\r\\n 5.   Update organization option should only be visible if the user is admin **[Feature]**\\r\\n https://thepalisadoes-dyb6419.slack.com/files/U01QZEFJSCE/F01RDN4F57U/photo6235250589541969025.jpg\\r\\n\\r\\n**Console log for the same:**\\r\\n![image](https://user-images.githubusercontent.com/44184786/111340923-0ebb2580-869f-11eb-81f8-c9947ad04b5e.png)\\r\\n**Video of the same:**\\r\\n\\r\\n[![Watch the video](https://user-images.githubusercontent.com/44184786/111345100-f6e5a080-86a2-11eb-9a59-30fba6ddb8cd.jpg)](https://user-images.githubusercontent.com/44184786/111341136-3e6a2d80-869f-11eb-9b71-13839b1a2cc6.mp4)\\r\\n   \n",
       "\n",
       "           llama3_prediction llama3_prediction_organized  \n",
       "44458  (ii), (iii), and (iv)       (ii), (iii), and (iv)  "
      ]
     },
     "execution_count": 24,
     "metadata": {},
     "output_type": "execute_result"
    }
   ],
   "source": [
    "results.iloc[44458:44459]"
   ]
  },
  {
   "cell_type": "code",
   "execution_count": 25,
   "metadata": {},
   "outputs": [],
   "source": [
    "results.loc[44458,'llama3_prediction_organized'] = 'enhancement'"
   ]
  },
  {
   "cell_type": "code",
   "execution_count": 26,
   "metadata": {},
   "outputs": [
    {
     "data": {
      "text/plain": [
       "\"I'd categorize this issue as an **enhancement report**.\\n\\nThe main reason for this classification is that the issue describes a specific feature request rather than a defect or bug in the system. The user is requesting a change to the font used in certain languages, and providing screenshots to illustrate the problem. This is more of an enhancement or a feature request rather than a bug report.\""
      ]
     },
     "execution_count": 26,
     "metadata": {},
     "output_type": "execute_result"
    }
   ],
   "source": [
    "results.loc[57748,'llama3_prediction_organized']"
   ]
  },
  {
   "cell_type": "code",
   "execution_count": 27,
   "metadata": {},
   "outputs": [],
   "source": [
    "results.loc[57748,'llama3_prediction_organized'] = 'enhancement'"
   ]
  },
  {
   "cell_type": "code",
   "execution_count": 28,
   "metadata": {},
   "outputs": [
    {
     "data": {
      "text/plain": [
       "'The category of the following issue is:\\n\\n(i) Enhancement Report'"
      ]
     },
     "execution_count": 28,
     "metadata": {},
     "output_type": "execute_result"
    }
   ],
   "source": [
    "results.loc[63635,'llama3_prediction_organized']"
   ]
  },
  {
   "cell_type": "code",
   "execution_count": 29,
   "metadata": {},
   "outputs": [],
   "source": [
    "results.loc[63635,'llama3_prediction_organized'] = 'enhancement'"
   ]
  },
  {
   "cell_type": "code",
   "execution_count": 30,
   "metadata": {},
   "outputs": [
    {
     "data": {
      "text/plain": [
       "'(ii), (iii)'"
      ]
     },
     "execution_count": 30,
     "metadata": {},
     "output_type": "execute_result"
    }
   ],
   "source": [
    "results.loc[68827,'llama3_prediction_organized']"
   ]
  },
  {
   "cell_type": "code",
   "execution_count": 31,
   "metadata": {},
   "outputs": [
    {
     "data": {
      "text/html": [
       "<div>\n",
       "<style scoped>\n",
       "    .dataframe tbody tr th:only-of-type {\n",
       "        vertical-align: middle;\n",
       "    }\n",
       "\n",
       "    .dataframe tbody tr th {\n",
       "        vertical-align: top;\n",
       "    }\n",
       "\n",
       "    .dataframe thead th {\n",
       "        text-align: right;\n",
       "    }\n",
       "</style>\n",
       "<table border=\"1\" class=\"dataframe\">\n",
       "  <thead>\n",
       "    <tr style=\"text-align: right;\">\n",
       "      <th></th>\n",
       "      <th>Unnamed: 0.1</th>\n",
       "      <th>Unnamed: 0</th>\n",
       "      <th>issue_url</th>\n",
       "      <th>issue_label</th>\n",
       "      <th>issue_created_at</th>\n",
       "      <th>issue_author_association</th>\n",
       "      <th>repository_url</th>\n",
       "      <th>issue_title</th>\n",
       "      <th>issue_body</th>\n",
       "      <th>llama3_prediction</th>\n",
       "      <th>llama3_prediction_organized</th>\n",
       "    </tr>\n",
       "  </thead>\n",
       "  <tbody>\n",
       "    <tr>\n",
       "      <th>68827</th>\n",
       "      <td>68827</td>\n",
       "      <td>687226</td>\n",
       "      <td>https://api.github.com/repos/CCExtractor/sample-platform/issues/448</td>\n",
       "      <td>enhancement</td>\n",
       "      <td>2020-09-08T21:24:10Z</td>\n",
       "      <td>MEMBER</td>\n",
       "      <td>https://api.github.com/repos/CCExtractor/sample-platform</td>\n",
       "      <td>[Multiple correct outputs] Update GUI to allow adding a new correct value</td>\n",
       "      <td>Modify the test result view to add a link/button to update the list of correct files.\\r\\n\\r\\nhttps://github.com/CCExtractor/sample-platform/blob/master/mod_test/controllers.py\\r\\nhttps://github.com/CCExtractor/sample-platform/blob/master/templates/test/by_id.html</td>\n",
       "      <td>(ii), (iii)</td>\n",
       "      <td>(ii), (iii)</td>\n",
       "    </tr>\n",
       "  </tbody>\n",
       "</table>\n",
       "</div>"
      ],
      "text/plain": [
       "       Unnamed: 0.1  Unnamed: 0  \\\n",
       "68827         68827      687226   \n",
       "\n",
       "                                                                 issue_url  \\\n",
       "68827  https://api.github.com/repos/CCExtractor/sample-platform/issues/448   \n",
       "\n",
       "       issue_label      issue_created_at issue_author_association  \\\n",
       "68827  enhancement  2020-09-08T21:24:10Z                   MEMBER   \n",
       "\n",
       "                                                 repository_url  \\\n",
       "68827  https://api.github.com/repos/CCExtractor/sample-platform   \n",
       "\n",
       "                                                                     issue_title  \\\n",
       "68827  [Multiple correct outputs] Update GUI to allow adding a new correct value   \n",
       "\n",
       "                                                                                                                                                                                                                                                                    issue_body  \\\n",
       "68827  Modify the test result view to add a link/button to update the list of correct files.\\r\\n\\r\\nhttps://github.com/CCExtractor/sample-platform/blob/master/mod_test/controllers.py\\r\\nhttps://github.com/CCExtractor/sample-platform/blob/master/templates/test/by_id.html   \n",
       "\n",
       "      llama3_prediction llama3_prediction_organized  \n",
       "68827       (ii), (iii)                 (ii), (iii)  "
      ]
     },
     "execution_count": 31,
     "metadata": {},
     "output_type": "execute_result"
    }
   ],
   "source": [
    "results.iloc[68827:68828]"
   ]
  },
  {
   "cell_type": "code",
   "execution_count": 32,
   "metadata": {},
   "outputs": [],
   "source": [
    "results.loc[68827,'llama3_prediction_organized'] = 'enhancement'"
   ]
  },
  {
   "cell_type": "code",
   "execution_count": 33,
   "metadata": {},
   "outputs": [
    {
     "data": {
      "text/plain": [
       "'(i) Bug report\\n(ii) Enhancement report'"
      ]
     },
     "execution_count": 33,
     "metadata": {},
     "output_type": "execute_result"
    }
   ],
   "source": [
    "results.loc[74707,'llama3_prediction_organized']"
   ]
  },
  {
   "cell_type": "code",
   "execution_count": 34,
   "metadata": {},
   "outputs": [
    {
     "data": {
      "text/html": [
       "<div>\n",
       "<style scoped>\n",
       "    .dataframe tbody tr th:only-of-type {\n",
       "        vertical-align: middle;\n",
       "    }\n",
       "\n",
       "    .dataframe tbody tr th {\n",
       "        vertical-align: top;\n",
       "    }\n",
       "\n",
       "    .dataframe thead th {\n",
       "        text-align: right;\n",
       "    }\n",
       "</style>\n",
       "<table border=\"1\" class=\"dataframe\">\n",
       "  <thead>\n",
       "    <tr style=\"text-align: right;\">\n",
       "      <th></th>\n",
       "      <th>Unnamed: 0.1</th>\n",
       "      <th>Unnamed: 0</th>\n",
       "      <th>issue_url</th>\n",
       "      <th>issue_label</th>\n",
       "      <th>issue_created_at</th>\n",
       "      <th>issue_author_association</th>\n",
       "      <th>repository_url</th>\n",
       "      <th>issue_title</th>\n",
       "      <th>issue_body</th>\n",
       "      <th>llama3_prediction</th>\n",
       "      <th>llama3_prediction_organized</th>\n",
       "    </tr>\n",
       "  </thead>\n",
       "  <tbody>\n",
       "    <tr>\n",
       "      <th>74707</th>\n",
       "      <td>74707</td>\n",
       "      <td>744940</td>\n",
       "      <td>https://api.github.com/repos/secureCodeBox/secureCodeBox/issues/297</td>\n",
       "      <td>enhancement</td>\n",
       "      <td>2021-02-11T13:05:08Z</td>\n",
       "      <td>MEMBER</td>\n",
       "      <td>https://api.github.com/repos/secureCodeBox/secureCodeBox</td>\n",
       "      <td>Support for Custom S3 Services with a Custom Root CA</td>\n",
       "      <td>&lt;!--\\r\\nThank you for reporting an issue in our documentation 🙌\\r\\n\\r\\nBefore opening a new issue, please make sure that we do not have any duplicates already open. You can ensure this by searching the issue list for this repository. If there is a duplicate, please close your issue and add a comment to the existing issue instead.\\r\\n--&gt;\\r\\nAs secureCodeBox operations user i would like to integrate and configure custom S3 based persistence services instead of public available services like AWS Buckets, GCP Storage or DO. \\r\\n\\r\\n**Is your feature request related to a problem? Please describe.**\\r\\n&lt;!-- A clear and concise description of what the problem is. Ex. I'm always frustrated when [...] --&gt;\\r\\nBy now it is already possible to configure a custom S3 Backend as documented here: \\r\\n- https://docs.securecodebox.io/docs/getting-started/installation#using-a-hosted-s3-buckets-as-storage-backend\\r\\n- https://github.com/secureCodeBox/secureCodeBox/tree/main/operator#chart-configuration\\r\\n\\r\\nBut one feature is missing in the case of custom/internal S3 Services. It must be possible to add and configure custom root CA's for all secureCodeBox Components (Operator, Scanner, Hooks,...) to ensure a valid TLS based connection, if the custom S3 Service uses non public avaliable certificates.\\r\\n\\r\\n**Describe the solution you'd like**\\r\\n&lt;!-- A clear and concise description of what you want to happen. --&gt;\\r\\nImplement a configuration Option for all HelmCharts to add a custom Root CA based on a given configMap containing the CA Certificate.\\r\\n\\r\\nSCB Components involved here:\\r\\n\\r\\n- [x] SCB Operator: https://github.com/secureCodeBox/secureCodeBox/tree/main/operator\\r\\n- [x] SCB Lurcher: https://github.com/secureCodeBox/secureCodeBox/tree/main/lurcher\\r\\n- [x] All Scanner Parser ([parseDefinition](https://docs.securecodebox.io/docs/api/crds/parse-definition)):  https://github.com/secureCodeBox/secureCodeBox/tree/main/scanners ...\\r\\n- [x] All Hooks ([ScanCompletionHook](https://docs.securecodebox.io/docs/api/crds/scan-completion-hook)): https://github.com/secureCodeBox/secureCodeBox/tree/main/hooks ...\\r\\n\\r\\n## Implementation Hints:\\r\\nRegarding the parseDefinition and ScanCompletionHook CRDs we have already implemented the possibility for _ENV_, _Mount_ and _FileMount_ configurations in the corresponding SCB CRD and controller. Additional informations are documented in issue #212.\\r\\n\\r\\nWhat is missing here is to add this configuration option to all Scanner and Hooks HelmChart by default. The following hints will guide you through some necessary steps:\\r\\n\\r\\n### Hook Hints\\r\\n#### Existing CRD _ScanCompletionHook_ Definition\\r\\nhttps://github.com/secureCodeBox/secureCodeBox/blob/3f22b172db08914626e5f199b78d54c93609fccf/operator/apis/execution/v1/scancompletionhook.go#L38-L65\\r\\n\\r\\n#### Example Hook HelmChart Value Configuration:\\r\\nThe following code shows an example how the missing configuration option should look like (for all existing hook charts). Based on https://github.com/secureCodeBox/secureCodeBox/blob/main/hooks/declarative-subsequent-scans/values.yaml\\r\\n```yaml\\r\\n# example Hook configuration values\\r\\nhookJob:\\r\\n  # hookJob.ttlSecondsAfterFinished -- seconds after which the kubernetes job for the hook will be deleted. Requires the Kubernetes TTLAfterFinished controller: https://kubernetes.io/docs/concepts/workloads/controllers/ttlafterfinished/\\r\\n  ttlSecondsAfterFinished: null\\r\\n  # hookJob.env -- Optional environment variables mapped into each scanJob (see: https://kubernetes.io/docs/tasks/inject-data-application/define-environment-variable-container/)\\r\\n  env: []\\r\\n  # hookJob.envFrom -- Optional mount environment variables from configMaps or secrets (see: https://kubernetes.io/docs/tasks/inject-data-application/distribute-credentials-secure/#configure-all-key-value-pairs-in-a-secret-as-container-environment-variables)\\r\\n  envFrom: []\\r\\n  # hookJob.extraVolumes -- Optional Volumes mapped into each hookJob (see: https://kubernetes.io/docs/concepts/storage/volumes/)\\r\\n  extraVolumes:\\r\\n    - name: ca-workdir\\r\\n      emptyDir: {}\\r\\n  # hookJob.extraVolumeMounts -- Optional VolumeMounts mapped into each hookJob (see: https://kubernetes.io/docs/concepts/storage/volumes/)\\r\\n  extraVolumeMounts:\\r\\n    - mountPath: /etc/ssl/\\r\\n      name: ca-workdir\\r\\n```\\r\\n\\r\\n#### Example Hook HelmChart Template implementation:\\r\\nbased on: https://github.com/secureCodeBox/secureCodeBox/blob/main/hooks/declarative-subsequent-scans/templates/declerative-subsequent-scans-hook.yaml\\r\\n\\r\\n```yaml\\r\\napiVersion: \"execution.securecodebox.io/v1\"\\r\\nkind: ScanCompletionHook\\r\\nmetadata:\\r\\n  name: {{ include \"declarative-subsequent-scans.fullname\" . }}\\r\\nspec:\\r\\n  type: ReadOnly\\r\\n  image: \"{{ .Values.image.repository }}:{{ .Values.image.tag | default .Chart.Version }}\"\\r\\n  ttlSecondsAfterFinished: {{ .Values.hookJob.ttlSecondsAfterFinished }}\\r\\n  serviceAccountName: declarative-combined-scans\\r\\n  env:  {{ include \" .Values.hookJob.env\" . }}\\r\\n  volumes:  {{ include \" .Values.hookJob.extraVolumes\" . }}\\r\\n  volumeMounts:  {{ include \" .Values.hookJob.extraVolumeMounts\" . }}\\r\\n```\\r\\n\\r\\n### Parser Hints\\r\\n#### Existing CRD _parseType_ Definition\\r\\nhttps://github.com/secureCodeBox/secureCodeBox/blob/3f22b172db08914626e5f199b78d54c93609fccf/operator/apis/execution/v1/parsedefinition_types.go#L27-L49\\r\\n\\r\\n#### Example Scanner HelmChart Value Configuration:\\r\\nThe following code shows an example how the missing configuration option should look like (for all existing scanner charts). Based on: https://github.com/secureCodeBox/secureCodeBox/blob/main/scanners/amass/values.yaml\\r\\n\\r\\n```yaml\\r\\n# example Scanner (Parser) configuration values\\r\\nparseJob:\\r\\n  # parseJob.ttlSecondsAfterFinished -- seconds after which the kubernetes job for the hook will be deleted. Requires the Kubernetes TTLAfterFinished controller: https://kubernetes.io/docs/concepts/workloads/controllers/ttlafterfinished/\\r\\n  ttlSecondsAfterFinished: null\\r\\n  # parseJob.env -- Optional environment variables mapped into each scanJob (see: https://kubernetes.io/docs/tasks/inject-data-application/define-environment-variable-container/)\\r\\n  env: []\\r\\n  # parseJob.envFrom -- Optional mount environment variables from configMaps or secrets (see: https://kubernetes.io/docs/tasks/inject-data-application/distribute-credentials-secure/#configure-all-key-value-pairs-in-a-secret-as-container-environment-variables)\\r\\n  envFrom: []\\r\\n  # parseJob.extraVolumes -- Optional Volumes mapped into each hookJob (see: https://kubernetes.io/docs/concepts/storage/volumes/)\\r\\n  extraVolumes:\\r\\n    - name: ca-workdir\\r\\n      emptyDir: {}\\r\\n  # parseJob.extraVolumeMounts -- Optional VolumeMounts mapped into each hookJob (see: https://kubernetes.io/docs/concepts/storage/volumes/)\\r\\n  extraVolumeMounts:\\r\\n    - mountPath: /etc/ssl/\\r\\n      name: ca-workdir\\r\\n```\\r\\n#### Example Parser HelmChart Template implementation:\\r\\nbased on https://github.com/secureCodeBox/secureCodeBox/blob/main/scanners/amass/templates/amass-parse-definition.yaml:\\r\\n\\r\\n```yaml\\r\\napiVersion: \"execution.securecodebox.io/v1\"\\r\\nkind: ParseDefinition\\r\\nmetadata:\\r\\n  name: \"amass-jsonl\"\\r\\nspec:\\r\\n  handlesResultsType: amass-jsonl\\r\\n  image: \"{{ .Values.parserImage.repository }}:{{ .Values.parserImage.tag | default .Chart.Version }}\"\\r\\n  ttlSecondsAfterFinished: {{ .Values.parseJob.ttlSecondsAfterFinished }}\\r\\n  env:  {{ include \" .Values.parseJob.env\" . }}\\r\\n  volumes:  {{ include \" .Values.parseJob.extraVolumes\" . }}\\r\\n  volumeMounts:  {{ include \" .Values.parseJob.extraVolumeMounts\" . }}\\r\\n```\\r\\n\\r\\n### Operator and Lurcher Hints\\r\\nThe following code shows an example how the missing configuration option should look like for the operator and lurcher:\\r\\n\\r\\n```yaml\\r\\n# example Lurcher configuration values\\r\\nlurcher:\\r\\n  # lurcher.env -- Optional environment variables mapped into the lurcher (see: https://kubernetes.io/docs/tasks/inject-data-application/define-environment-variable-container/)\\r\\n  env: []\\r\\n  # lurcher.envFrom -- Optional mount environment variables from configMaps or secrets (see: https://kubernetes.io/docs/tasks/inject-data-application/distribute-credentials-secure/#configure-all-key-value-pairs-in-a-secret-as-container-environment-variables)\\r\\n  envFrom: []\\r\\n  # lurcher.extraVolumes -- Optional Volumes mapped into the lurcher (see: https://kubernetes.io/docs/concepts/storage/volumes/)\\r\\n  extraVolumes:\\r\\n    - name: ca-workdir\\r\\n      emptyDir: {}\\r\\n  # lurcher.extraVolumeMounts -- Optional VolumeMounts mapped into the lurcher (see: https://kubernetes.io/docs/concepts/storage/volumes/)\\r\\n  extraVolumeMounts:\\r\\n    - mountPath: /etc/ssl/\\r\\n      name: ca-workdir\\r\\n\\r\\n# example Operator configuration values\\r\\n# env -- Optional environment variables mapped into the operator (see: https://kubernetes.io/docs/tasks/inject-data-application/define-environment-variable-container/)\\r\\nenv: []\\r\\n# envFrom -- Optional mount environment variables from configMaps or secrets (see: https://kubernetes.io/docs/tasks/inject-data-application/distribute-credentials-secure/#configure-all-key-value-pairs-in-a-secret-as-container-environment-variables)\\r\\nenvFrom: []\\r\\n# volumes -- Optional Volumes mapped into the operator (see: https://kubernetes.io/docs/concepts/storage/volumes/)\\r\\nvolumes:\\r\\n  - name: ca-workdir\\r\\n    emptyDir: {}\\r\\n# volumeMounts -- Optional VolumeMounts mapped into the operator (see: https://kubernetes.io/docs/concepts/storage/volumes/)\\r\\nvolumeMounts:\\r\\n  - mountPath: /etc/ssl/\\r\\n    name: ca-workdir\\r\\n```\\r\\n\\r\\n**Describe alternatives you've considered**\\r\\n&lt;!-- A clear and concise description of any alternative solutions or features you've considered. --&gt;\\r\\nnone\\r\\n\\r\\n**Additional context**\\r\\n&lt;!-- Add any other context or screenshots about the feature request here. --&gt;\\r\\n</td>\n",
       "      <td>(i) Bug report\\n(ii) Enhancement report</td>\n",
       "      <td>(i) Bug report\\n(ii) Enhancement report</td>\n",
       "    </tr>\n",
       "  </tbody>\n",
       "</table>\n",
       "</div>"
      ],
      "text/plain": [
       "       Unnamed: 0.1  Unnamed: 0  \\\n",
       "74707         74707      744940   \n",
       "\n",
       "                                                                 issue_url  \\\n",
       "74707  https://api.github.com/repos/secureCodeBox/secureCodeBox/issues/297   \n",
       "\n",
       "       issue_label      issue_created_at issue_author_association  \\\n",
       "74707  enhancement  2021-02-11T13:05:08Z                   MEMBER   \n",
       "\n",
       "                                                 repository_url  \\\n",
       "74707  https://api.github.com/repos/secureCodeBox/secureCodeBox   \n",
       "\n",
       "                                                issue_title  \\\n",
       "74707  Support for Custom S3 Services with a Custom Root CA   \n",
       "\n",
       "                                                                                                                                                                                                                                                                                                                                                                                                                                                                                                                                                                                                                                                                                                                                                                                                                                                                                                                                                                                                                                                                                                                                                                                                                                                                                                                                                                                                                                                                                                                                                                                                                                                                                                                                                                                                                                                                                                                                                                                                                                                                                                                                                                                                                                                                                                                                                                                                                                                                                                                                                                                                                                                                                                                                                                                                                                                                                                                                                                                                                                                                                                                                                                                                                                                                                                                                                                                                                                                                                                                                                                                                                                                                                                                                                                                                                                                                                                                                                                                                                                                                                                                                                                                                                                                                                                                                                                                                                                                                                                                                                                                                                                                                                                                                                                                                                                                                                                                                                                                                                                                                                                                                                                                                                                                                                                                                                                                                                                                                                                                                                                                                                                                                                                                                                                                                                                                                                                                                                                                                                                                                                                                                                                                                                                                                                                                                                                                                                                                                                                                                                                                                                                                                                                                                                                                                                                                                                                                                                                                                                                                                                                                                                                                                                                                                                                                                                                                                                                                                                                                                                                                                                                                                                                                                                                                                                                                                                                                                                                                                                                                                                                                                                                                                                                                                                                                                                                                                                                                                                                                                                                                                                                                                                                                                                                                                                                                                                                                                                                                                                                                                                                                                                                                                                                                                                                                                                                                                                                                                                                                                                                                                                                                                                                                                                                                                                                                                                                                                                                                                                                                                                                                                                                                                                                                                                                                                                                issue_body  \\\n",
       "74707  <!--\\r\\nThank you for reporting an issue in our documentation 🙌\\r\\n\\r\\nBefore opening a new issue, please make sure that we do not have any duplicates already open. You can ensure this by searching the issue list for this repository. If there is a duplicate, please close your issue and add a comment to the existing issue instead.\\r\\n-->\\r\\nAs secureCodeBox operations user i would like to integrate and configure custom S3 based persistence services instead of public available services like AWS Buckets, GCP Storage or DO. \\r\\n\\r\\n**Is your feature request related to a problem? Please describe.**\\r\\n<!-- A clear and concise description of what the problem is. Ex. I'm always frustrated when [...] -->\\r\\nBy now it is already possible to configure a custom S3 Backend as documented here: \\r\\n- https://docs.securecodebox.io/docs/getting-started/installation#using-a-hosted-s3-buckets-as-storage-backend\\r\\n- https://github.com/secureCodeBox/secureCodeBox/tree/main/operator#chart-configuration\\r\\n\\r\\nBut one feature is missing in the case of custom/internal S3 Services. It must be possible to add and configure custom root CA's for all secureCodeBox Components (Operator, Scanner, Hooks,...) to ensure a valid TLS based connection, if the custom S3 Service uses non public avaliable certificates.\\r\\n\\r\\n**Describe the solution you'd like**\\r\\n<!-- A clear and concise description of what you want to happen. -->\\r\\nImplement a configuration Option for all HelmCharts to add a custom Root CA based on a given configMap containing the CA Certificate.\\r\\n\\r\\nSCB Components involved here:\\r\\n\\r\\n- [x] SCB Operator: https://github.com/secureCodeBox/secureCodeBox/tree/main/operator\\r\\n- [x] SCB Lurcher: https://github.com/secureCodeBox/secureCodeBox/tree/main/lurcher\\r\\n- [x] All Scanner Parser ([parseDefinition](https://docs.securecodebox.io/docs/api/crds/parse-definition)):  https://github.com/secureCodeBox/secureCodeBox/tree/main/scanners ...\\r\\n- [x] All Hooks ([ScanCompletionHook](https://docs.securecodebox.io/docs/api/crds/scan-completion-hook)): https://github.com/secureCodeBox/secureCodeBox/tree/main/hooks ...\\r\\n\\r\\n## Implementation Hints:\\r\\nRegarding the parseDefinition and ScanCompletionHook CRDs we have already implemented the possibility for _ENV_, _Mount_ and _FileMount_ configurations in the corresponding SCB CRD and controller. Additional informations are documented in issue #212.\\r\\n\\r\\nWhat is missing here is to add this configuration option to all Scanner and Hooks HelmChart by default. The following hints will guide you through some necessary steps:\\r\\n\\r\\n### Hook Hints\\r\\n#### Existing CRD _ScanCompletionHook_ Definition\\r\\nhttps://github.com/secureCodeBox/secureCodeBox/blob/3f22b172db08914626e5f199b78d54c93609fccf/operator/apis/execution/v1/scancompletionhook.go#L38-L65\\r\\n\\r\\n#### Example Hook HelmChart Value Configuration:\\r\\nThe following code shows an example how the missing configuration option should look like (for all existing hook charts). Based on https://github.com/secureCodeBox/secureCodeBox/blob/main/hooks/declarative-subsequent-scans/values.yaml\\r\\n```yaml\\r\\n# example Hook configuration values\\r\\nhookJob:\\r\\n  # hookJob.ttlSecondsAfterFinished -- seconds after which the kubernetes job for the hook will be deleted. Requires the Kubernetes TTLAfterFinished controller: https://kubernetes.io/docs/concepts/workloads/controllers/ttlafterfinished/\\r\\n  ttlSecondsAfterFinished: null\\r\\n  # hookJob.env -- Optional environment variables mapped into each scanJob (see: https://kubernetes.io/docs/tasks/inject-data-application/define-environment-variable-container/)\\r\\n  env: []\\r\\n  # hookJob.envFrom -- Optional mount environment variables from configMaps or secrets (see: https://kubernetes.io/docs/tasks/inject-data-application/distribute-credentials-secure/#configure-all-key-value-pairs-in-a-secret-as-container-environment-variables)\\r\\n  envFrom: []\\r\\n  # hookJob.extraVolumes -- Optional Volumes mapped into each hookJob (see: https://kubernetes.io/docs/concepts/storage/volumes/)\\r\\n  extraVolumes:\\r\\n    - name: ca-workdir\\r\\n      emptyDir: {}\\r\\n  # hookJob.extraVolumeMounts -- Optional VolumeMounts mapped into each hookJob (see: https://kubernetes.io/docs/concepts/storage/volumes/)\\r\\n  extraVolumeMounts:\\r\\n    - mountPath: /etc/ssl/\\r\\n      name: ca-workdir\\r\\n```\\r\\n\\r\\n#### Example Hook HelmChart Template implementation:\\r\\nbased on: https://github.com/secureCodeBox/secureCodeBox/blob/main/hooks/declarative-subsequent-scans/templates/declerative-subsequent-scans-hook.yaml\\r\\n\\r\\n```yaml\\r\\napiVersion: \"execution.securecodebox.io/v1\"\\r\\nkind: ScanCompletionHook\\r\\nmetadata:\\r\\n  name: {{ include \"declarative-subsequent-scans.fullname\" . }}\\r\\nspec:\\r\\n  type: ReadOnly\\r\\n  image: \"{{ .Values.image.repository }}:{{ .Values.image.tag | default .Chart.Version }}\"\\r\\n  ttlSecondsAfterFinished: {{ .Values.hookJob.ttlSecondsAfterFinished }}\\r\\n  serviceAccountName: declarative-combined-scans\\r\\n  env:  {{ include \" .Values.hookJob.env\" . }}\\r\\n  volumes:  {{ include \" .Values.hookJob.extraVolumes\" . }}\\r\\n  volumeMounts:  {{ include \" .Values.hookJob.extraVolumeMounts\" . }}\\r\\n```\\r\\n\\r\\n### Parser Hints\\r\\n#### Existing CRD _parseType_ Definition\\r\\nhttps://github.com/secureCodeBox/secureCodeBox/blob/3f22b172db08914626e5f199b78d54c93609fccf/operator/apis/execution/v1/parsedefinition_types.go#L27-L49\\r\\n\\r\\n#### Example Scanner HelmChart Value Configuration:\\r\\nThe following code shows an example how the missing configuration option should look like (for all existing scanner charts). Based on: https://github.com/secureCodeBox/secureCodeBox/blob/main/scanners/amass/values.yaml\\r\\n\\r\\n```yaml\\r\\n# example Scanner (Parser) configuration values\\r\\nparseJob:\\r\\n  # parseJob.ttlSecondsAfterFinished -- seconds after which the kubernetes job for the hook will be deleted. Requires the Kubernetes TTLAfterFinished controller: https://kubernetes.io/docs/concepts/workloads/controllers/ttlafterfinished/\\r\\n  ttlSecondsAfterFinished: null\\r\\n  # parseJob.env -- Optional environment variables mapped into each scanJob (see: https://kubernetes.io/docs/tasks/inject-data-application/define-environment-variable-container/)\\r\\n  env: []\\r\\n  # parseJob.envFrom -- Optional mount environment variables from configMaps or secrets (see: https://kubernetes.io/docs/tasks/inject-data-application/distribute-credentials-secure/#configure-all-key-value-pairs-in-a-secret-as-container-environment-variables)\\r\\n  envFrom: []\\r\\n  # parseJob.extraVolumes -- Optional Volumes mapped into each hookJob (see: https://kubernetes.io/docs/concepts/storage/volumes/)\\r\\n  extraVolumes:\\r\\n    - name: ca-workdir\\r\\n      emptyDir: {}\\r\\n  # parseJob.extraVolumeMounts -- Optional VolumeMounts mapped into each hookJob (see: https://kubernetes.io/docs/concepts/storage/volumes/)\\r\\n  extraVolumeMounts:\\r\\n    - mountPath: /etc/ssl/\\r\\n      name: ca-workdir\\r\\n```\\r\\n#### Example Parser HelmChart Template implementation:\\r\\nbased on https://github.com/secureCodeBox/secureCodeBox/blob/main/scanners/amass/templates/amass-parse-definition.yaml:\\r\\n\\r\\n```yaml\\r\\napiVersion: \"execution.securecodebox.io/v1\"\\r\\nkind: ParseDefinition\\r\\nmetadata:\\r\\n  name: \"amass-jsonl\"\\r\\nspec:\\r\\n  handlesResultsType: amass-jsonl\\r\\n  image: \"{{ .Values.parserImage.repository }}:{{ .Values.parserImage.tag | default .Chart.Version }}\"\\r\\n  ttlSecondsAfterFinished: {{ .Values.parseJob.ttlSecondsAfterFinished }}\\r\\n  env:  {{ include \" .Values.parseJob.env\" . }}\\r\\n  volumes:  {{ include \" .Values.parseJob.extraVolumes\" . }}\\r\\n  volumeMounts:  {{ include \" .Values.parseJob.extraVolumeMounts\" . }}\\r\\n```\\r\\n\\r\\n### Operator and Lurcher Hints\\r\\nThe following code shows an example how the missing configuration option should look like for the operator and lurcher:\\r\\n\\r\\n```yaml\\r\\n# example Lurcher configuration values\\r\\nlurcher:\\r\\n  # lurcher.env -- Optional environment variables mapped into the lurcher (see: https://kubernetes.io/docs/tasks/inject-data-application/define-environment-variable-container/)\\r\\n  env: []\\r\\n  # lurcher.envFrom -- Optional mount environment variables from configMaps or secrets (see: https://kubernetes.io/docs/tasks/inject-data-application/distribute-credentials-secure/#configure-all-key-value-pairs-in-a-secret-as-container-environment-variables)\\r\\n  envFrom: []\\r\\n  # lurcher.extraVolumes -- Optional Volumes mapped into the lurcher (see: https://kubernetes.io/docs/concepts/storage/volumes/)\\r\\n  extraVolumes:\\r\\n    - name: ca-workdir\\r\\n      emptyDir: {}\\r\\n  # lurcher.extraVolumeMounts -- Optional VolumeMounts mapped into the lurcher (see: https://kubernetes.io/docs/concepts/storage/volumes/)\\r\\n  extraVolumeMounts:\\r\\n    - mountPath: /etc/ssl/\\r\\n      name: ca-workdir\\r\\n\\r\\n# example Operator configuration values\\r\\n# env -- Optional environment variables mapped into the operator (see: https://kubernetes.io/docs/tasks/inject-data-application/define-environment-variable-container/)\\r\\nenv: []\\r\\n# envFrom -- Optional mount environment variables from configMaps or secrets (see: https://kubernetes.io/docs/tasks/inject-data-application/distribute-credentials-secure/#configure-all-key-value-pairs-in-a-secret-as-container-environment-variables)\\r\\nenvFrom: []\\r\\n# volumes -- Optional Volumes mapped into the operator (see: https://kubernetes.io/docs/concepts/storage/volumes/)\\r\\nvolumes:\\r\\n  - name: ca-workdir\\r\\n    emptyDir: {}\\r\\n# volumeMounts -- Optional VolumeMounts mapped into the operator (see: https://kubernetes.io/docs/concepts/storage/volumes/)\\r\\nvolumeMounts:\\r\\n  - mountPath: /etc/ssl/\\r\\n    name: ca-workdir\\r\\n```\\r\\n\\r\\n**Describe alternatives you've considered**\\r\\n<!-- A clear and concise description of any alternative solutions or features you've considered. -->\\r\\nnone\\r\\n\\r\\n**Additional context**\\r\\n<!-- Add any other context or screenshots about the feature request here. -->\\r\\n   \n",
       "\n",
       "                             llama3_prediction  \\\n",
       "74707  (i) Bug report\\n(ii) Enhancement report   \n",
       "\n",
       "                   llama3_prediction_organized  \n",
       "74707  (i) Bug report\\n(ii) Enhancement report  "
      ]
     },
     "execution_count": 34,
     "metadata": {},
     "output_type": "execute_result"
    }
   ],
   "source": [
    "results.iloc[74707:74708]"
   ]
  },
  {
   "cell_type": "code",
   "execution_count": 35,
   "metadata": {},
   "outputs": [],
   "source": [
    "results.loc[74707,'llama3_prediction_organized'] = 'bug'"
   ]
  },
  {
   "cell_type": "code",
   "execution_count": 36,
   "metadata": {},
   "outputs": [
    {
     "data": {
      "text/plain": [
       "'(i), (ii)'"
      ]
     },
     "execution_count": 36,
     "metadata": {},
     "output_type": "execute_result"
    }
   ],
   "source": [
    "results.loc[78550,'llama3_prediction_organized']"
   ]
  },
  {
   "cell_type": "code",
   "execution_count": 37,
   "metadata": {},
   "outputs": [
    {
     "data": {
      "text/html": [
       "<div>\n",
       "<style scoped>\n",
       "    .dataframe tbody tr th:only-of-type {\n",
       "        vertical-align: middle;\n",
       "    }\n",
       "\n",
       "    .dataframe tbody tr th {\n",
       "        vertical-align: top;\n",
       "    }\n",
       "\n",
       "    .dataframe thead th {\n",
       "        text-align: right;\n",
       "    }\n",
       "</style>\n",
       "<table border=\"1\" class=\"dataframe\">\n",
       "  <thead>\n",
       "    <tr style=\"text-align: right;\">\n",
       "      <th></th>\n",
       "      <th>Unnamed: 0.1</th>\n",
       "      <th>Unnamed: 0</th>\n",
       "      <th>issue_url</th>\n",
       "      <th>issue_label</th>\n",
       "      <th>issue_created_at</th>\n",
       "      <th>issue_author_association</th>\n",
       "      <th>repository_url</th>\n",
       "      <th>issue_title</th>\n",
       "      <th>issue_body</th>\n",
       "      <th>llama3_prediction</th>\n",
       "      <th>llama3_prediction_organized</th>\n",
       "    </tr>\n",
       "  </thead>\n",
       "  <tbody>\n",
       "    <tr>\n",
       "      <th>78550</th>\n",
       "      <td>78550</td>\n",
       "      <td>783568</td>\n",
       "      <td>https://api.github.com/repos/yairm210/Unciv/issues/3961</td>\n",
       "      <td>bug</td>\n",
       "      <td>2021-05-18T14:01:12Z</td>\n",
       "      <td>NONE</td>\n",
       "      <td>https://api.github.com/repos/yairm210/Unciv</td>\n",
       "      <td>Europe example map</td>\n",
       "      <td>\\r\\n1. Go to 'map type - custom' \\r\\n2. Click on 'Europe Example map\\r\\n3. See error\\r\\n' Resource Gold does not exist in ruleset'\\r\\n\\r\\nAlso, \\r\\n1. Go to 'map type - custom'\\r\\n2. Click on 'Large Africa txt'\\r\\n3. See error - 'The game crashes'</td>\n",
       "      <td>(i), (ii)</td>\n",
       "      <td>(i), (ii)</td>\n",
       "    </tr>\n",
       "  </tbody>\n",
       "</table>\n",
       "</div>"
      ],
      "text/plain": [
       "       Unnamed: 0.1  Unnamed: 0  \\\n",
       "78550         78550      783568   \n",
       "\n",
       "                                                     issue_url issue_label  \\\n",
       "78550  https://api.github.com/repos/yairm210/Unciv/issues/3961         bug   \n",
       "\n",
       "           issue_created_at issue_author_association  \\\n",
       "78550  2021-05-18T14:01:12Z                     NONE   \n",
       "\n",
       "                                    repository_url         issue_title  \\\n",
       "78550  https://api.github.com/repos/yairm210/Unciv  Europe example map   \n",
       "\n",
       "                                                                                                                                                                                                                                                    issue_body  \\\n",
       "78550  \\r\\n1. Go to 'map type - custom' \\r\\n2. Click on 'Europe Example map\\r\\n3. See error\\r\\n' Resource Gold does not exist in ruleset'\\r\\n\\r\\nAlso, \\r\\n1. Go to 'map type - custom'\\r\\n2. Click on 'Large Africa txt'\\r\\n3. See error - 'The game crashes'   \n",
       "\n",
       "      llama3_prediction llama3_prediction_organized  \n",
       "78550         (i), (ii)                   (i), (ii)  "
      ]
     },
     "execution_count": 37,
     "metadata": {},
     "output_type": "execute_result"
    }
   ],
   "source": [
    "results.iloc[78550:78551]"
   ]
  },
  {
   "cell_type": "code",
   "execution_count": 38,
   "metadata": {},
   "outputs": [],
   "source": [
    "results.loc[78550,'llama3_prediction_organized'] = 'bug'"
   ]
  },
  {
   "cell_type": "code",
   "execution_count": 39,
   "metadata": {},
   "outputs": [
    {
     "data": {
      "text/plain": [
       "'The category of this issue is:\\n\\n(ii) Enhancement Report'"
      ]
     },
     "execution_count": 39,
     "metadata": {},
     "output_type": "execute_result"
    }
   ],
   "source": [
    "results.loc[78597,'llama3_prediction_organized']"
   ]
  },
  {
   "cell_type": "code",
   "execution_count": 40,
   "metadata": {},
   "outputs": [],
   "source": [
    "results.loc[78597,'llama3_prediction_organized'] = 'enhancement'"
   ]
  },
  {
   "cell_type": "code",
   "execution_count": 41,
   "metadata": {},
   "outputs": [
    {
     "data": {
      "text/plain": [
       "llama3_prediction_organized\n",
       "bug             37326\n",
       "enhancement     34653\n",
       "out-of-scope     8539\n",
       "Name: count, dtype: int64"
      ]
     },
     "execution_count": 41,
     "metadata": {},
     "output_type": "execute_result"
    }
   ],
   "source": [
    "results['llama3_prediction_organized'].value_counts()"
   ]
  },
  {
   "cell_type": "code",
   "execution_count": 42,
   "metadata": {},
   "outputs": [
    {
     "data": {
      "text/plain": [
       "array(['bug', 'enhancement', 'out-of-scope'], dtype=object)"
      ]
     },
     "execution_count": 42,
     "metadata": {},
     "output_type": "execute_result"
    }
   ],
   "source": [
    "results['llama3_prediction_organized'].unique()"
   ]
  },
  {
   "cell_type": "code",
   "execution_count": 43,
   "metadata": {},
   "outputs": [
    {
     "data": {
      "text/plain": [
       "array(['bug', 'enhancement', 'question'], dtype=object)"
      ]
     },
     "execution_count": 43,
     "metadata": {},
     "output_type": "execute_result"
    }
   ],
   "source": [
    "results['llama3_prediction_organized'] = results['llama3_prediction_organized'].apply(\n",
    "    lambda x: x if x in ['bug', 'enhancement'] else 'question'\n",
    ")\n",
    "results['llama3_prediction_organized'].unique()"
   ]
  },
  {
   "cell_type": "code",
   "execution_count": 44,
   "metadata": {},
   "outputs": [
    {
     "data": {
      "text/plain": [
       "llama3_prediction_organized\n",
       "bug            37326\n",
       "enhancement    34653\n",
       "question        8539\n",
       "Name: count, dtype: int64"
      ]
     },
     "execution_count": 44,
     "metadata": {},
     "output_type": "execute_result"
    }
   ],
   "source": [
    "results['llama3_prediction_organized'].value_counts()"
   ]
  },
  {
   "cell_type": "code",
   "execution_count": 45,
   "metadata": {},
   "outputs": [
    {
     "data": {
      "text/plain": [
       "issue_label\n",
       "bug            40288\n",
       "enhancement    33203\n",
       "question        7027\n",
       "Name: count, dtype: int64"
      ]
     },
     "execution_count": 45,
     "metadata": {},
     "output_type": "execute_result"
    }
   ],
   "source": [
    "results['issue_label'].value_counts()"
   ]
  },
  {
   "cell_type": "code",
   "execution_count": 46,
   "metadata": {},
   "outputs": [],
   "source": [
    "actual_labels = results['issue_label']\n",
    "predicted_labels = results['llama3_prediction_organized']\n",
    "\n",
    "confusion_matrix = confusion_matrix(actual_labels, predicted_labels)\n",
    "\n",
    "class_report = classification_report(actual_labels, predicted_labels, target_names=['bug', 'enhancement', 'question'], digits=3)\n",
    "\n",
    "conf_matrix_df = pd.DataFrame(confusion_matrix, index=['bug', 'enhancement', 'question'], columns=['bug', 'enhancement', 'question'])"
   ]
  },
  {
   "cell_type": "code",
   "execution_count": 47,
   "metadata": {},
   "outputs": [
    {
     "name": "stdout",
     "output_type": "stream",
     "text": [
      "               bug  enhancement  question\n",
      "bug          32003         5975      2310\n",
      "enhancement   2498        25794      4911\n",
      "question      2825         2884      1318\n"
     ]
    }
   ],
   "source": [
    "print(conf_matrix_df)"
   ]
  },
  {
   "cell_type": "code",
   "execution_count": 48,
   "metadata": {},
   "outputs": [
    {
     "data": {
      "image/png": "[encoded data removed]",
      "text/plain": [
       "<Figure size 800x600 with 2 Axes>"
      ]
     },
     "metadata": {},
     "output_type": "display_data"
    }
   ],
   "source": [
    "plt.figure(figsize = (8,6))\n",
    "sns.heatmap(conf_matrix_df,\n",
    "            annot = True,\n",
    "            fmt = 'd',\n",
    "            cmap = 'Blues')\n",
    "plt.xlabel('prediction')\n",
    "plt.ylabel('actual')\n",
    "plt.title('Confusion Matrix')\n",
    "plt.show()"
   ]
  },
  {
   "cell_type": "code",
   "execution_count": 49,
   "metadata": {},
   "outputs": [
    {
     "name": "stdout",
     "output_type": "stream",
     "text": [
      "              precision    recall  f1-score   support\n",
      "\n",
      "         bug      0.857     0.794     0.825     40288\n",
      " enhancement      0.744     0.777     0.760     33203\n",
      "    question      0.154     0.188     0.169      7027\n",
      "\n",
      "    accuracy                          0.734     80518\n",
      "   macro avg      0.585     0.586     0.585     80518\n",
      "weighted avg      0.749     0.734     0.741     80518\n",
      "\n"
     ]
    }
   ],
   "source": [
    "print(class_report)"
   ]
  }
 ],
 "metadata": {
  "kernelspec": {
   "display_name": "Python 3",
   "language": "python",
   "name": "python3"
  },
  "language_info": {
   "codemirror_mode": {
    "name": "ipython",
    "version": 3
   },
   "file_extension": ".py",
   "mimetype": "text/x-python",
   "name": "python",
   "nbconvert_exporter": "python",
   "pygments_lexer": "ipython3",
   "version": "3.12.0"
  }
 },
 "nbformat": 4,
 "nbformat_minor": 2
}
